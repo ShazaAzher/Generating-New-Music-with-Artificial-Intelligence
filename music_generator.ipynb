{
 "cells": [
  {
   "cell_type": "code",
   "execution_count": null,
   "metadata": {},
   "outputs": [],
   "source": [
    "!pip uninstall -y audiocraft\n",
    "!python -m pip install --upgrade pip\n",
    "!pip install -U git+https://git@github.com/facebookresearch/audiocraft#egg=audiocraft"
   ]
  },
  {
   "cell_type": "code",
   "execution_count": null,
   "metadata": {},
   "outputs": [],
   "source": [
    "!pip install accelerate --upgrade"
   ]
  },
  {
   "cell_type": "code",
   "execution_count": null,
   "metadata": {},
   "outputs": [],
   "source": [
    "!pip install transformers -U"
   ]
  },
  {
   "cell_type": "code",
   "execution_count": null,
   "metadata": {},
   "outputs": [],
   "source": [
    "# import libraries\n",
    "import torchaudio\n",
    "from IPython.display import Audio\n",
    "from ipywidgets import Textarea\n",
    "from ipywidgets import Button\n",
    "import audiocraft\n",
    "from audiocraft.models import MusicGen"
   ]
  },
  {
   "cell_type": "code",
   "execution_count": null,
   "metadata": {},
   "outputs": [],
   "source": [
    "# load pretrained model\n",
    "model = MusicGen.get_pretrained('facebook/musicgen-small')"
   ]
  },
  {
   "cell_type": "code",
   "execution_count": null,
   "metadata": {},
   "outputs": [],
   "source": [
    "# configure model parameters\n",
    "model.set_generation_params(duration=8)"
   ]
  },
  {
   "cell_type": "code",
   "execution_count": null,
   "metadata": {},
   "outputs": [],
   "source": [
    "# generate music\n",
    "results = model.generate(['classic rock song'])\n",
    "sampling_rate =  model.sample_rate\n",
    "Audio(results[0].numpy(), rate=sampling_rate)"
   ]
  },
  {
   "cell_type": "code",
   "execution_count": null,
   "metadata": {},
   "outputs": [],
   "source": [
    "# Build a text input\n",
    "description = Textarea(rows=4)\n",
    "description"
   ]
  },
  {
   "cell_type": "code",
   "execution_count": null,
   "metadata": {},
   "outputs": [],
   "source": [
    "# generate a button \n",
    "generate_button = Button(description=\"Generate Tune\")\n",
    "generate_button"
   ]
  },
  {
   "cell_type": "code",
   "execution_count": null,
   "metadata": {},
   "outputs": [],
   "source": [
    "# connect UI to model \n",
    "\n",
    "# create a text area and a button\n",
    "description = Textarea(value='', placeholder='Give a music prompt', disabled=False, rows=4)\n",
    "generate_button = Button(description=\"Generate Tune\")\n",
    "\n",
    "\n",
    "# a function to generate music as prompted\n",
    "def generate_tune(event):\n",
    "    results = model.generate([description.value])\n",
    "    sampling_rate =  model.sample_rate\n",
    "    display( Audio(results[0].numpy(), rate=sampling_rate) )\n",
    "\n",
    "\n",
    "# creating a click event on the button\n",
    "generate_button.on_click(generate_tune)\n",
    "\n",
    "\n",
    "# display the UI items\n",
    "display(description)\n",
    "display(generate_button)"
   ]
  },
  {
   "cell_type": "code",
   "execution_count": null,
   "metadata": {},
   "outputs": [],
   "source": [
    "#refine prompts\n",
    "\n",
    "results = model.generate(['rock song'])\n",
    "sampling_rate =  model.sample_rate\n",
    "Audio(results[0].numpy(), rate=sampling_rate)\n"
   ]
  },
  {
   "cell_type": "code",
   "execution_count": null,
   "metadata": {},
   "outputs": [],
   "source": [
    "results = model.generate(['upbeat rock song with guitar solo'])\n",
    "sampling_rate =  model.sample_rate\n",
    "Audio(results[0].numpy(), rate=sampling_rate)"
   ]
  },
  {
   "cell_type": "code",
   "execution_count": null,
   "metadata": {},
   "outputs": [],
   "source": [
    "# compare outputs from different models\n",
    "model1 = MusicGen.get_pretrained('facebook/musicgen-small')\n",
    "model1.set_generation_params(duration=8)\n",
    "results = model1.generate(['classic rock song'])\n",
    "sampling_rate1 =  model1.sample_rate\n",
    "Audio(results[0].numpy(), rate=sampling_rate1)"
   ]
  },
  {
   "cell_type": "code",
   "execution_count": null,
   "metadata": {},
   "outputs": [],
   "source": [
    "model2 = MusicGen.get_pretrained('facebook/musicgen-medium')\n",
    "model2.set_generation_params(duration=8)\n",
    "results = model2.generate(['classic rock song'])\n",
    "sampling_rate2 =  model2.sample_rate\n",
    "Audio(results[0].numpy(), rate=sampling_rate2)"
   ]
  }
 ],
 "metadata": {
  "kernelspec": {
   "display_name": "Python 3 (ipykernel)",
   "language": "python",
   "name": "python3"
  },
  "language_info": {
   "codemirror_mode": {
    "name": "ipython",
    "version": 3
   },
   "file_extension": ".py",
   "mimetype": "text/x-python",
   "name": "python",
   "nbconvert_exporter": "python",
   "pygments_lexer": "ipython3",
   "version": "3.8.10"
  },
  "vscode": {
   "interpreter": {
    "hash": "767d51c1340bd893661ea55ea3124f6de3c7a262a8b4abca0554b478b1e2ff90"
   }
  }
 },
 "nbformat": 4,
 "nbformat_minor": 2
}
